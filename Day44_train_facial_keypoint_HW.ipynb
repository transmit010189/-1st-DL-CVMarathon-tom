{
 "cells": [
  {
   "cell_type": "code",
   "execution_count": 1,
   "metadata": {},
   "outputs": [],
   "source": [
    "import numpy as np\n",
    "import pandas as pd\n",
    "import matplotlib.pyplot as plt\n",
    "%matplotlib inline"
   ]
  },
  {
   "cell_type": "code",
   "execution_count": 2,
   "metadata": {},
   "outputs": [],
   "source": [
    "# 讀取資料集以及做前處理的函數\n",
    "def load_data(dirname):\n",
    "    # 讀取 csv 文件\n",
    "    data = pd.read_csv(dirname)\n",
    "    # 過濾有缺失值的 row\n",
    "    data = data.dropna()\n",
    "\n",
    "    # 將圖片像素值讀取為 numpy array 的形態\n",
    "    data['Image'] = data['Image'].apply(lambda img: np.fromstring(img, sep=' ')).values \n",
    "\n",
    "    # 單獨把圖像 array 抽取出來\n",
    "    imgs = np.vstack(data['Image'].values)/255\n",
    "    # reshape 為 96 x 96\n",
    "    imgs = imgs.reshape(data.shape[0], 96, 96)\n",
    "    # 轉換為 float\n",
    "    imgs = imgs.astype(np.float32)\n",
    "    \n",
    "    # 提取坐標的部分\n",
    "    points = data[data.columns[:-1]].values\n",
    "\n",
    "    # 轉換為 float\n",
    "    points = points.astype(np.float32)\n",
    "\n",
    "    # normalize 坐標值到 [-0.5, 0.5]\n",
    "    points = points/96 - 0.5\n",
    "    \n",
    "    return imgs, points"
   ]
  },
  {
   "cell_type": "code",
   "execution_count": 3,
   "metadata": {},
   "outputs": [
    {
     "name": "stdout",
     "output_type": "stream",
     "text": [
      "圖像資料: (2140, 96, 96) \n",
      "關鍵點資料: (2140, 30)\n"
     ]
    }
   ],
   "source": [
    "\n",
    "# 讀取資料\n",
    "imgs_train, points_train = load_data(dirname = 'training.csv')\n",
    "print(\"圖像資料:\", imgs_train.shape, \"\\n關鍵點資料:\", points_train.shape)"
   ]
  },
  {
   "cell_type": "code",
   "execution_count": 4,
   "metadata": {},
   "outputs": [],
   "source": [
    "from keras.models import Sequential\n",
    "from keras.layers import Conv2D, MaxPooling2D, Flatten, Dense, Dropout"
   ]
  },
  {
   "cell_type": "code",
   "execution_count": 5,
   "metadata": {},
   "outputs": [],
   "source": [
    "# 回傳定義好的 model 的函數\n",
    "def get_model():\n",
    "    # 定義人臉關鍵點檢測網路\n",
    "    model = Sequential()\n",
    "\n",
    "    # 定義神經網路的輸入\n",
    "    model.add(Conv2D(filters=16, kernel_size=3, activation='relu', input_shape=(96, 96, 1)))\n",
    "    model.add(MaxPooling2D(pool_size=2))\n",
    "\n",
    "    model.add(Conv2D(filters=32, kernel_size=3, activation='relu'))\n",
    "    model.add(MaxPooling2D(pool_size=2))\n",
    "\n",
    "    model.add(Conv2D(filters=64, kernel_size=3, activation='relu'))\n",
    "    model.add(MaxPooling2D(pool_size=2))\n",
    "\n",
    "    model.add(Conv2D(filters=128, kernel_size=3, activation='relu'))\n",
    "    model.add(MaxPooling2D(pool_size=2))\n",
    "\n",
    "    model.add(Flatten())\n",
    "    model.add(Dense(512, activation='relu'))\n",
    "    model.add(Dropout(0.2))\n",
    "    model.add(Dense(512, activation='relu'))\n",
    "    model.add(Dropout(0.2))\n",
    "\n",
    "    # 最後輸出 30 維的向量，也就是 15 個關鍵點的值\n",
    "    model.add(Dense(30))\n",
    "    return model"
   ]
  },
  {
   "cell_type": "code",
   "execution_count": 6,
   "metadata": {},
   "outputs": [],
   "source": [
    "model = get_model()\n",
    "# 配置 loss funtion 和 optimizer\n",
    "model.compile(loss='mean_squared_error', optimizer='adam')"
   ]
  },
  {
   "cell_type": "code",
   "execution_count": 7,
   "metadata": {},
   "outputs": [
    {
     "name": "stdout",
     "output_type": "stream",
     "text": [
      "Model: \"sequential\"\n",
      "_________________________________________________________________\n",
      "Layer (type)                 Output Shape              Param #   \n",
      "=================================================================\n",
      "conv2d (Conv2D)              (None, 94, 94, 16)        160       \n",
      "_________________________________________________________________\n",
      "max_pooling2d (MaxPooling2D) (None, 47, 47, 16)        0         \n",
      "_________________________________________________________________\n",
      "conv2d_1 (Conv2D)            (None, 45, 45, 32)        4640      \n",
      "_________________________________________________________________\n",
      "max_pooling2d_1 (MaxPooling2 (None, 22, 22, 32)        0         \n",
      "_________________________________________________________________\n",
      "conv2d_2 (Conv2D)            (None, 20, 20, 64)        18496     \n",
      "_________________________________________________________________\n",
      "max_pooling2d_2 (MaxPooling2 (None, 10, 10, 64)        0         \n",
      "_________________________________________________________________\n",
      "conv2d_3 (Conv2D)            (None, 8, 8, 128)         73856     \n",
      "_________________________________________________________________\n",
      "max_pooling2d_3 (MaxPooling2 (None, 4, 4, 128)         0         \n",
      "_________________________________________________________________\n",
      "flatten (Flatten)            (None, 2048)              0         \n",
      "_________________________________________________________________\n",
      "dense (Dense)                (None, 512)               1049088   \n",
      "_________________________________________________________________\n",
      "dropout (Dropout)            (None, 512)               0         \n",
      "_________________________________________________________________\n",
      "dense_1 (Dense)              (None, 512)               262656    \n",
      "_________________________________________________________________\n",
      "dropout_1 (Dropout)          (None, 512)               0         \n",
      "_________________________________________________________________\n",
      "dense_2 (Dense)              (None, 30)                15390     \n",
      "=================================================================\n",
      "Total params: 1,424,286\n",
      "Trainable params: 1,424,286\n",
      "Non-trainable params: 0\n",
      "_________________________________________________________________\n"
     ]
    }
   ],
   "source": [
    "# 印出網路結構\n",
    "model.summary()"
   ]
  },
  {
   "cell_type": "code",
   "execution_count": 8,
   "metadata": {},
   "outputs": [],
   "source": [
    "from keras.callbacks import ModelCheckpoint, History\n",
    "# model checkpoint \n",
    "checkpoint = ModelCheckpoint('best_weights.h5', verbose=1, save_best_only=True)\n",
    "hist = History()"
   ]
  },
  {
   "cell_type": "code",
   "execution_count": null,
   "metadata": {},
   "outputs": [
    {
     "name": "stdout",
     "output_type": "stream",
     "text": [
      "Epoch 1/150\n",
      "27/27 [==============================] - 6s 202ms/step - loss: 0.0118 - val_loss: 0.0022\n",
      "\n",
      "Epoch 00001: val_loss improved from inf to 0.00224, saving model to best_weights.h5\n",
      "Epoch 2/150\n",
      "27/27 [==============================] - 4s 152ms/step - loss: 0.0016 - val_loss: 0.0019\n",
      "\n",
      "Epoch 00002: val_loss improved from 0.00224 to 0.00186, saving model to best_weights.h5\n",
      "Epoch 3/150\n",
      "27/27 [==============================] - 4s 146ms/step - loss: 0.0013 - val_loss: 0.0019\n",
      "\n",
      "Epoch 00003: val_loss did not improve from 0.00186\n",
      "Epoch 4/150\n",
      "27/27 [==============================] - 4s 145ms/step - loss: 0.0012 - val_loss: 0.0018\n",
      "\n",
      "Epoch 00004: val_loss improved from 0.00186 to 0.00184, saving model to best_weights.h5\n",
      "Epoch 5/150\n",
      "27/27 [==============================] - 4s 144ms/step - loss: 0.0010 - val_loss: 0.0017\n",
      "\n",
      "Epoch 00005: val_loss improved from 0.00184 to 0.00174, saving model to best_weights.h5\n",
      "Epoch 6/150\n",
      "27/27 [==============================] - 4s 146ms/step - loss: 9.0101e-04 - val_loss: 0.0016\n",
      "\n",
      "Epoch 00006: val_loss improved from 0.00174 to 0.00158, saving model to best_weights.h5\n",
      "Epoch 7/150\n",
      "27/27 [==============================] - 4s 150ms/step - loss: 7.6421e-04 - val_loss: 0.0015\n",
      "\n",
      "Epoch 00007: val_loss improved from 0.00158 to 0.00149, saving model to best_weights.h5\n",
      "Epoch 8/150\n",
      "27/27 [==============================] - 4s 154ms/step - loss: 6.6769e-04 - val_loss: 0.0012\n",
      "\n",
      "Epoch 00008: val_loss improved from 0.00149 to 0.00123, saving model to best_weights.h5\n",
      "Epoch 9/150\n",
      "27/27 [==============================] - 4s 164ms/step - loss: 5.8889e-04 - val_loss: 0.0012\n",
      "\n",
      "Epoch 00009: val_loss improved from 0.00123 to 0.00121, saving model to best_weights.h5\n",
      "Epoch 10/150\n",
      "27/27 [==============================] - 4s 166ms/step - loss: 5.5428e-04 - val_loss: 0.0011\n",
      "\n",
      "Epoch 00010: val_loss improved from 0.00121 to 0.00111, saving model to best_weights.h5\n",
      "Epoch 11/150\n",
      "27/27 [==============================] - 4s 161ms/step - loss: 4.8521e-04 - val_loss: 0.0010\n",
      "\n",
      "Epoch 00011: val_loss improved from 0.00111 to 0.00104, saving model to best_weights.h5\n",
      "Epoch 12/150\n",
      "27/27 [==============================] - 4s 159ms/step - loss: 4.5076e-04 - val_loss: 9.9277e-04\n",
      "\n",
      "Epoch 00012: val_loss improved from 0.00104 to 0.00099, saving model to best_weights.h5\n",
      "Epoch 13/150\n",
      "27/27 [==============================] - 4s 163ms/step - loss: 4.4098e-04 - val_loss: 9.8221e-04\n",
      "\n",
      "Epoch 00013: val_loss improved from 0.00099 to 0.00098, saving model to best_weights.h5\n",
      "Epoch 14/150\n",
      "27/27 [==============================] - 5s 172ms/step - loss: 3.9745e-04 - val_loss: 9.2703e-04\n",
      "\n",
      "Epoch 00014: val_loss improved from 0.00098 to 0.00093, saving model to best_weights.h5\n",
      "Epoch 15/150\n",
      "27/27 [==============================] - 5s 167ms/step - loss: 3.7683e-04 - val_loss: 9.2903e-04\n",
      "\n",
      "Epoch 00015: val_loss did not improve from 0.00093\n",
      "Epoch 16/150\n",
      "12/27 [============>.................] - ETA: 2s - loss: 3.9134e-04"
     ]
    }
   ],
   "source": [
    "# training the model\n",
    "hist_model = model.fit(imgs_train.reshape(-1, 96, 96, 1), \n",
    "                       points_train, \n",
    "                       validation_split=0.2, batch_size=64, callbacks=[checkpoint, hist],\n",
    "                       shuffle=True, epochs=150, verbose=1)\n",
    "# save the model weights\n",
    "model.save_weights('weights.h5')\n",
    "# save the model\n",
    "model.save('model.h5')"
   ]
  },
  {
   "cell_type": "code",
   "execution_count": null,
   "metadata": {},
   "outputs": [],
   "source": [
    "# loss 值的圖\n",
    "plt.title('Optimizer : Adam', fontsize=10)\n",
    "plt.ylabel('Loss', fontsize=16)\n",
    "plt.plot(hist_model.history['loss'], color='b', label='Training Loss')\n",
    "plt.plot(hist_model.history['val_loss'], color='r', label='Validation Loss')\n",
    "plt.legend(loc='upper right')"
   ]
  },
  {
   "cell_type": "code",
   "execution_count": null,
   "metadata": {},
   "outputs": [],
   "source": [
    "\n",
    "# 讀取測試資料集\n",
    "imgs_test, _ = load_data(dirname = 'test.csv')"
   ]
  },
  {
   "cell_type": "code",
   "execution_count": null,
   "metadata": {},
   "outputs": [],
   "source": [
    "# 在灰階圖像上畫關鍵點的函數\n",
    "def plot_keypoints(img, points):\n",
    "    plt.imshow(img, cmap='gray')\n",
    "    for i in range(0,30,2):\n",
    "        plt.scatter((points[i] + 0.5)*96, (points[i+1]+0.5)*96, color='red')"
   ]
  },
  {
   "cell_type": "code",
   "execution_count": null,
   "metadata": {},
   "outputs": [],
   "source": [
    "fig = plt.figure(figsize=(15,15))\n",
    "# 在測試集圖片上用剛剛訓練好的模型做關鍵點的預測\n",
    "points_test = model.predict(imgs_test.reshape(imgs_test.shape[0], 96, 96, 1))\n",
    "\n",
    "for i in range(16):\n",
    "    ax = fig.add_subplot(4, 4, i + 1, xticks=[], yticks=[])\n",
    "    plot_keypoints(imgs_test[i], np.squeeze(points_test[i]))"
   ]
  },
  {
   "cell_type": "code",
   "execution_count": null,
   "metadata": {},
   "outputs": [],
   "source": [
    "model_with_augment = get_model()\n",
    "model_with_augment.compile(loss='mean_squared_error', optimizer='adam')"
   ]
  },
  {
   "cell_type": "code",
   "execution_count": null,
   "metadata": {},
   "outputs": [],
   "source": []
  }
 ],
 "metadata": {
  "kernelspec": {
   "display_name": "Python 3",
   "language": "python",
   "name": "python3"
  },
  "language_info": {
   "codemirror_mode": {
    "name": "ipython",
    "version": 3
   },
   "file_extension": ".py",
   "mimetype": "text/x-python",
   "name": "python",
   "nbconvert_exporter": "python",
   "pygments_lexer": "ipython3",
   "version": "3.8.5"
  }
 },
 "nbformat": 4,
 "nbformat_minor": 4
}
